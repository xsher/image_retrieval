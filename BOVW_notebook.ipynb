{
 "cells": [
  {
   "cell_type": "code",
   "execution_count": 68,
   "metadata": {},
   "outputs": [],
   "source": [
    "import cv2\n",
    "import numpy as np\n",
    "import json\n",
    "import time\n",
    "import math\n",
    "import os\n",
    "\n",
    "from glob import glob\n",
    "from matplotlib import pyplot as plt\n",
    "from collections import Counter\n",
    "from sklearn.metrics.pairwise import euclidean_distances\n",
    "\n",
    "class KMeans:\n",
    "    \n",
    "    def __init__(self, n_clusters):\n",
    "        self.n_clusters = n_clusters\n",
    "        self.compactness = None\n",
    "        self.label = None\n",
    "        self.center = None\n",
    "        \n",
    "    def fit(self, data):\n",
    "        criteria = (cv2.TERM_CRITERIA_EPS + cv2.TERM_CRITERIA_MAX_ITER, 10, 1.0)\n",
    "        self.compactness, self.label, self.center = cv2.kmeans(\n",
    "            data, self.n_clusters, None, criteria, 10, cv2.KMEANS_RANDOM_CENTERS)\n",
    "    \n",
    "    def predict(self, vectors):\n",
    "        \"\"\"\n",
    "        Vector may need to be reshaped with (1, -1)\n",
    "        Takes in a list of vectors\n",
    "        \"\"\"\n",
    "        cluster_labels = []\n",
    "        for vect in vectors:\n",
    "            dist = []\n",
    "            for idx, c in enumerate(self.center):\n",
    "                dist.append(euclidean_distances(vect.reshape(1, -1), c.reshape(1, -1)))\n",
    "            cluster_labels.append(dist.index(min(dist)))\n",
    "        \n",
    "        return cluster_labels\n",
    "\n",
    "\n",
    "class DescriptorGenerator:\n",
    "    \"\"\"\n",
    "    Class to help with image processing and retrieval of descriptors\n",
    "    \"\"\"\n",
    "    des_obj = None\n",
    "    \n",
    "    def __init__(self, method='sift', nfeatures=2000):\n",
    "        if method == \"sift\":\n",
    "            self.des_obj = cv2.xfeatures2d.SIFT_create(nfeatures=nfeatures)\n",
    "        elif method == \"surf\":\n",
    "            self.des_obj = cv2.xfeatures2d.SURF_create(nfeatures=nfeatures)\n",
    "\n",
    "    def gray(self, image):\n",
    "        gray = cv2.cvtColor(image, cv2.COLOR_BGR2GRAY)\n",
    "        return gray\n",
    "\n",
    "    def features(self, image):\n",
    "        keypoints, descriptors = self.des_obj.detectAndCompute(image, None)\n",
    "        return [keypoints, descriptors]"
   ]
  },
  {
   "cell_type": "code",
   "execution_count": 69,
   "metadata": {},
   "outputs": [],
   "source": [
    "class BOVW:\n",
    "    def __init__(self, data_path, method='sift', n_clusters=10, nfeatures=2000):\n",
    "        self.t = time.time()\n",
    "        self.n_clusters = n_clusters\n",
    "        self.path = data_path\n",
    "\n",
    "        self.opencv = DescriptorGenerator(method=method, nfeatures=nfeatures)\n",
    "        self.kmeans = KMeans(n_clusters=n_clusters)\n",
    "        self.descriptor_vstack = None\n",
    "\n",
    "        self.images = None\n",
    "        self.image_count = 0\n",
    "        self.descriptor_list = []\n",
    "        self.image_vocab = {}\n",
    "        self.tfidf_corpus = None\n",
    "        \n",
    "    def cluster(self):\n",
    "        \"\"\"\t\n",
    "        cluster using KMeans algorithm, \n",
    "        \"\"\"\n",
    "        self.kmeans.fit(self.descriptor_vstack)\n",
    "      \n",
    "    def format_data(self, list_items):\n",
    "        \"\"\"\t\n",
    "        restructures list into vstack array of shape\n",
    "        M samples x N features for sklearn\n",
    "        \"\"\"\n",
    "        v_stack = np.array(list_items[0])\n",
    "        for r in list_items[1:]:\n",
    "            v_stack = np.vstack((v_stack, r))\n",
    "        self.descriptor_vstack = v_stack.copy()\n",
    "        return v_stack\n",
    "\n",
    "    def plot_hist(self):\n",
    "        print(\"Plotting histogram\")\n",
    "        counts = Counter(self.kmeans.label.flatten())\n",
    "        \n",
    "        x = list(counts.keys())\n",
    "        y = list(counts.values())\n",
    "\n",
    "        plt.bar(x, y)\n",
    "        plt.xlabel(\"Visual Word Index\")\n",
    "        plt.ylabel(\"Frequency\")\n",
    "        plt.title(\"Complete Vocabulary Generated\")\n",
    "        plt.xticks(np.array(x) + 0.4, x)\n",
    "        plt.savefig(\"visual_word_histogram.jpg\")\n",
    "        plt.show()\n",
    "\n",
    "    def load_images(self):\n",
    "        imlist = {}\n",
    "        count = 0\n",
    "        print(\"Loading images from: \", self.path)\n",
    "        for f in glob(self.path + \"*\"):\n",
    "            imfile = f.split(\"/\")[-1]\n",
    "            print(\"Loading image file {} ==========\".format(imfile))\n",
    "            im = cv2.imread(f, 0)\n",
    "            imlist[imfile] = im\n",
    "            count +=1\n",
    "\n",
    "        self.images = imlist\n",
    "        self.image_count = count\n",
    "\n",
    "    def train_vocabulary(self):\n",
    "        \"\"\"\n",
    "        This method contains the entire module \n",
    "        required for training the bag of visual words model\n",
    "        Use of helper functions will be extensive.\n",
    "        \"\"\"\n",
    "\n",
    "        # read file. prepare file lists.\n",
    "        if not self.images:\n",
    "            self.load_images()\n",
    "\n",
    "        for im, imlist in self.images.items():\n",
    "            print(\"Computing Features for image: \", im)\n",
    "            lkp, des = self.opencv.features(imlist)\n",
    "            print(\"descriptor length\", len(des))\n",
    "            self.descriptor_list.append(des)\n",
    "\n",
    "        print(\"Formatting data\")\n",
    "        self.format_data(self.descriptor_list)\n",
    "        print(\"Performing Clustering\")\n",
    "        self.cluster()\n",
    "        self.plot_hist()\n",
    "\n",
    "    def generate_vocabulary(self):\n",
    "        \"\"\"\n",
    "        Generates vocabulary for each image\n",
    "        \"\"\"\n",
    "        self.image_vocab = {}\n",
    "        for im, imlist in self.images.items():\n",
    "            vocab = self.generate_vocab(imlist)\n",
    "            self.image_vocab[im] = list(vocab)\n",
    "        \n",
    "        # save a copy first\n",
    "        with open(\"vocabs_{}.txt\".format(self.t), \"w\") as f:\n",
    "            try:\n",
    "                json.dump([self.image_vocab], f)\n",
    "            except:\n",
    "                pass\n",
    "        return self.image_vocab\n",
    "\n",
    "    def generate_redis(self, data_dict, redis_path):\n",
    "        print(\"Generating file for redis\")\n",
    "        with open(redis_path, \"w\") as redis_f:\n",
    "            for key, value in data_dict.items():\n",
    "                redis_f.write(\"SET {} {}\".format(key, value))\n",
    "                redis_f.write(\"\\n\")\n",
    "        \n",
    "    def generate_vocab(self, img):\n",
    "        \"\"\" \n",
    "        This method generates the vocabulary for an image\n",
    "        It returns a vector of length n_clusters with its frequency count\n",
    "        \"\"\"\n",
    "        kp, des = self.opencv.features(img)\n",
    "\n",
    "        vocab = [[0 for i in range(self.n_clusters)]]\n",
    "        \n",
    "        test_ret = self.kmeans.predict(des)\n",
    "\n",
    "        for each in test_ret:\n",
    "            vocab[0][each] += 1\n",
    "\n",
    "        return vocab"
   ]
  },
  {
   "cell_type": "code",
   "execution_count": 70,
   "metadata": {
    "scrolled": true
   },
   "outputs": [
    {
     "name": "stdout",
     "output_type": "stream",
     "text": [
      "Loading images from:  /Users/sherly/Documents/jpg/100\n",
      "Loading image file 100000.jpg ==========\n",
      "Loading image file 100001.jpg ==========\n",
      "Loading image file 100002.jpg ==========\n",
      "Loading image file 100100.jpg ==========\n",
      "Loading image file 100101.jpg ==========\n",
      "Loading image file 100200.jpg ==========\n",
      "Loading image file 100201.jpg ==========\n",
      "Loading image file 100300.jpg ==========\n",
      "Loading image file 100301.jpg ==========\n",
      "Loading image file 100302.jpg ==========\n",
      "Loading image file 100400.jpg ==========\n",
      "Loading image file 100401.jpg ==========\n",
      "Loading image file 100500.jpg ==========\n",
      "Loading image file 100501.jpg ==========\n",
      "Loading image file 100502.jpg ==========\n",
      "Loading image file 100503.jpg ==========\n",
      "Loading image file 100600.jpg ==========\n",
      "Loading image file 100601.jpg ==========\n",
      "Loading image file 100700.jpg ==========\n",
      "Loading image file 100701.jpg ==========\n",
      "Loading image file 100800.jpg ==========\n",
      "Loading image file 100801.jpg ==========\n",
      "Loading image file 100900.jpg ==========\n",
      "Loading image file 100901.jpg ==========\n",
      "Loading image file 100902.jpg ==========\n",
      "Computing Features for image:  100000.jpg\n",
      "descriptor length 1500\n",
      "Computing Features for image:  100001.jpg\n",
      "descriptor length 1501\n",
      "Computing Features for image:  100002.jpg\n",
      "descriptor length 1501\n",
      "Computing Features for image:  100100.jpg\n",
      "descriptor length 1500\n",
      "Computing Features for image:  100101.jpg\n",
      "descriptor length 1500\n",
      "Computing Features for image:  100200.jpg\n",
      "descriptor length 1500\n",
      "Computing Features for image:  100201.jpg\n",
      "descriptor length 1500\n",
      "Computing Features for image:  100300.jpg\n",
      "descriptor length 1501\n",
      "Computing Features for image:  100301.jpg\n",
      "descriptor length 1500\n",
      "Computing Features for image:  100302.jpg\n",
      "descriptor length 1500\n",
      "Computing Features for image:  100400.jpg\n",
      "descriptor length 1500\n",
      "Computing Features for image:  100401.jpg\n",
      "descriptor length 1500\n",
      "Computing Features for image:  100500.jpg\n",
      "descriptor length 1500\n",
      "Computing Features for image:  100501.jpg\n",
      "descriptor length 1500\n",
      "Computing Features for image:  100502.jpg\n",
      "descriptor length 1500\n",
      "Computing Features for image:  100503.jpg\n",
      "descriptor length 1500\n",
      "Computing Features for image:  100600.jpg\n",
      "descriptor length 1500\n",
      "Computing Features for image:  100601.jpg\n",
      "descriptor length 1501\n",
      "Computing Features for image:  100700.jpg\n",
      "descriptor length 1500\n",
      "Computing Features for image:  100701.jpg\n",
      "descriptor length 1500\n",
      "Computing Features for image:  100800.jpg\n",
      "descriptor length 1500\n",
      "Computing Features for image:  100801.jpg\n",
      "descriptor length 1500\n",
      "Computing Features for image:  100900.jpg\n",
      "descriptor length 790\n",
      "Computing Features for image:  100901.jpg\n",
      "descriptor length 986\n",
      "Computing Features for image:  100902.jpg\n",
      "descriptor length 840\n",
      "Formatting data\n",
      "Performing Clustering\n",
      "Plotting histogram\n"
     ]
    },
    {
     "data": {
      "image/png": "[encoded data removed]",
      "text/plain": [
       "<Figure size 432x288 with 1 Axes>"
      ]
     },
     "metadata": {},
     "output_type": "display_data"
    }
   ],
   "source": [
    "current_dir = os.getcwd()\n",
    "n_clusters = 40\n",
    "image_dir = os.path.join(current_dir, \"images/100\")\n",
    "bovw = BOVW(image_dir, n_clusters=n_clusters, nfeatures=1500)\n",
    "\n",
    "bovw.train_vocabulary()"
   ]
  },
  {
   "cell_type": "code",
   "execution_count": null,
   "metadata": {},
   "outputs": [],
   "source": [
    "bovw.generate_vocabulary()"
   ]
  },
  {
   "cell_type": "code",
   "execution_count": 72,
   "metadata": {},
   "outputs": [],
   "source": [
    "from sklearn.metrics.pairwise import cosine_similarity\n",
    "\n",
    "class TFIDF:\n",
    "    \n",
    "    def __init__(self, corpus, n_clusters):\n",
    "        self.corpus = corpus\n",
    "        self.idf = None\n",
    "        self.n_clusters = n_clusters\n",
    "        \n",
    "    def compute_TF(self, bow):\n",
    "        \"\"\"\n",
    "        Term Frequency = Number of occurences of word j in document d /\n",
    "                         Number of words in document d\n",
    "        The parameter bow refers to the bag of words which represents\n",
    "        the frequencey of each word in the bag\n",
    "        \"\"\"\n",
    "        n_words = len(bow[0])\n",
    "        tf_bow = np.array(bow[0]) / n_words\n",
    "        return tf_bow\n",
    "\n",
    "    def generate_IDF_dict(self):\n",
    "        \"\"\"\n",
    "        IDF = log(total no. of docs / number of docs which has word j)\n",
    "        \"\"\"\n",
    "        n_docs = len(self.corpus)\n",
    "        idf_dict = dict.fromkeys(range(self.n_clusters), 0)\n",
    "        \n",
    "        for img, corp in self.corpus.items():\n",
    "            for idx, count in enumerate(corp[0]):\n",
    "                if int(count) > 0:\n",
    "                    idf_dict[idx] += 1\n",
    "        for idx, count in idf_dict.items():\n",
    "            idf_dict[idx] = math.log10(n_docs / float(count))\n",
    "            \n",
    "        self.idf = idf_dict\n",
    "        return idf_dict\n",
    "    \n",
    "    def compute_TFIDF(self, bow):\n",
    "        tf_bow = self.compute_TF(bow)\n",
    "        tfidf = np.zeros(self.n_clusters)\n",
    "        for idx, tf in enumerate(tf_bow):\n",
    "            tfidf[idx] = tf * self.idf[idx]\n",
    "        return tfidf\n",
    "    \n",
    "    @staticmethod\n",
    "    def cosine_similarity(v1, v2):\n",
    "        return cosine_similarity(v1.reshape(1, -1), v2.reshape(1, -1))"
   ]
  },
  {
   "cell_type": "code",
   "execution_count": 73,
   "metadata": {},
   "outputs": [],
   "source": [
    "tfidf = TFIDF(bovw.image_vocab, n_clusters)"
   ]
  },
  {
   "cell_type": "code",
   "execution_count": 62,
   "metadata": {},
   "outputs": [
    {
     "data": {
      "text/plain": [
       "{0: 0.0,\n",
       " 1: 0.017728766960431616,\n",
       " 2: 0.05551732784983141,\n",
       " 3: 0.0,\n",
       " 4: 0.0,\n",
       " 5: 0.03621217265444471,\n",
       " 6: 0.0,\n",
       " 7: 0.0,\n",
       " 8: 0.0,\n",
       " 9: 0.03621217265444471,\n",
       " 10: 0.03621217265444471,\n",
       " 11: 0.03621217265444471,\n",
       " 12: 0.0,\n",
       " 13: 0.03621217265444471,\n",
       " 14: 0.0,\n",
       " 15: 0.05551732784983141,\n",
       " 16: 0.03621217265444471,\n",
       " 17: 0.03621217265444471,\n",
       " 18: 0.03621217265444471,\n",
       " 19: 0.03621217265444471}"
      ]
     },
     "execution_count": 62,
     "metadata": {},
     "output_type": "execute_result"
    }
   ],
   "source": [
    "tfidf.generate_IDF_dict()"
   ]
  },
  {
   "cell_type": "code",
   "execution_count": 63,
   "metadata": {},
   "outputs": [
    {
     "data": {
      "text/plain": [
       "array([0.        , 0.01063726, 0.03053453, 0.        , 0.        ,\n",
       "       0.09958347, 0.        , 0.        , 0.        , 0.21727304,\n",
       "       0.08871982, 0.06156069, 0.        , 0.86909214, 0.        ,\n",
       "       0.09715532, 0.18287147, 0.08509861, 0.11950017, 0.23356851])"
      ]
     },
     "execution_count": 63,
     "metadata": {},
     "output_type": "execute_result"
    }
   ],
   "source": [
    "tfidf.compute_TFIDF(bovw.image_vocab['100000.jpg'])"
   ]
  },
  {
   "cell_type": "code",
   "execution_count": 65,
   "metadata": {},
   "outputs": [],
   "source": [
    "from collections import defaultdict\n",
    "\n",
    "def generate_inverted_index(image_vocab):\n",
    "    inv_indx = defaultdict(list)\n",
    "    \n",
    "    for imgidx, vocab in image_vocab.items():\n",
    "        for idx, count in enumerate(vocab[0]):\n",
    "            if int(count) > 0:\n",
    "                inv_indx[idx].append(imgidx)\n",
    "    return inv_indx"
   ]
  },
  {
   "cell_type": "code",
   "execution_count": null,
   "metadata": {},
   "outputs": [],
   "source": [
    "generate_inverted_index(bovw.image_vocab)"
   ]
  },
  {
   "cell_type": "code",
   "execution_count": 18,
   "metadata": {},
   "outputs": [],
   "source": [
    "import redis\n",
    "from collections import defaultdict\n",
    "\n",
    "class Redis:\n",
    "    def __init__(self):\n",
    "        self.redis = redis.Redis(host='localhost', port=6379, db=0)\n",
    "\n",
    "    def mset(self, dict_vals):\n",
    "        \"\"\"\n",
    "        dict_vals format: k, list(v)\n",
    "        \"\"\"\n",
    "        redis_f = defaultdict()\n",
    "        for k, v in dict_vals.items():\n",
    "            redis_f[k] = json.dumps(v)\n",
    "\n",
    "        self.redis.mset(redis_f)\n",
    "        \n",
    "    def get(self, key):\n",
    "        return json.loads(self.redis.get(key))"
   ]
  },
  {
   "cell_type": "code",
   "execution_count": 19,
   "metadata": {},
   "outputs": [],
   "source": [
    "r = Redis()"
   ]
  },
  {
   "cell_type": "code",
   "execution_count": 21,
   "metadata": {},
   "outputs": [],
   "source": [
    "r.mset(bovw.image_vocab)"
   ]
  },
  {
   "cell_type": "code",
   "execution_count": 23,
   "metadata": {
    "scrolled": true
   },
   "outputs": [
    {
     "data": {
      "text/plain": [
       "list"
      ]
     },
     "execution_count": 23,
     "metadata": {},
     "output_type": "execute_result"
    }
   ],
   "source": [
    "type(r.get(\"100700.jpg\"))"
   ]
  },
  {
   "cell_type": "markdown",
   "metadata": {},
   "source": [
    "## Retrieval"
   ]
  },
  {
   "cell_type": "code",
   "execution_count": 79,
   "metadata": {},
   "outputs": [],
   "source": [
    "_dir = \"1548788884\""
   ]
  },
  {
   "cell_type": "code",
   "execution_count": 87,
   "metadata": {},
   "outputs": [],
   "source": [
    "import os\n",
    "with open(os.path.join(_dir, \"inverted_index.txt\")) as f:\n",
    "    inverted_index = json.loads(f.readlines()[0])[0]"
   ]
  },
  {
   "cell_type": "code",
   "execution_count": 89,
   "metadata": {},
   "outputs": [],
   "source": [
    "with open(os.path.join(_dir, \"tfidf.txt\")) as f:\n",
    "    computed_tfidf = f.readlines()\n",
    "    computed_tfidf = json.loads(computed_tfidf[0])[0]"
   ]
  },
  {
   "cell_type": "code",
   "execution_count": 95,
   "metadata": {},
   "outputs": [],
   "source": [
    "with open(os.path.join(_dir, \"kmeans_results.csv\")) as f:\n",
    "    kmeans  = f.readlines()\n",
    "    for ix, k in enumerate(kmeans):\n",
    "        kmeans[ix] = json.loads(k)"
   ]
  },
  {
   "cell_type": "code",
   "execution_count": 100,
   "metadata": {},
   "outputs": [],
   "source": [
    "with open(os.path.join(_dir, \"image_vocabs.txt\")) as f:\n",
    "    image_voc = f.readlines()\n",
    "    image_voc = json.loads(image_voc[0])[0]"
   ]
  },
  {
   "cell_type": "code",
   "execution_count": 298,
   "metadata": {},
   "outputs": [],
   "source": [
    "from functools import reduce\n",
    "import operator\n",
    "\n",
    "def retrieve_similar(img, top_n=5):\n",
    "    vocab = image_voc[img][0]\n",
    "    img_to_check = []\n",
    "    for ix, v in enumerate(vocab):\n",
    "        if int(v) > 0:\n",
    "            img_to_check.append(inverted_index[str(ix)])\n",
    "    img_to_check = np.unique(reduce(operator.add, img_to_check))\n",
    "    similarities = defaultdict()\n",
    "    for image in img_to_check:\n",
    "\n",
    "        similarities[image] = TFIDF.cosine_similarity(\n",
    "            np.array(computed_tfidf[img]),\n",
    "            np.array(computed_tfidf[image]))[0][0]\n",
    "    \n",
    "    return dict(sorted(similarities.items(), key=lambda x:x[1], reverse=True)[:top_n]).keys()"
   ]
  },
  {
   "cell_type": "code",
   "execution_count": 301,
   "metadata": {},
   "outputs": [
    {
     "data": {
      "text/plain": [
       "dict_keys(['100000.jpg', '100001.jpg', '100501.jpg', '100500.jpg', '100503.jpg'])"
      ]
     },
     "execution_count": 301,
     "metadata": {},
     "output_type": "execute_result"
    }
   ],
   "source": [
    "retrieve_similar('100000.jpg')"
   ]
  }
 ],
 "metadata": {
  "kernelspec": {
   "display_name": "Python 3",
   "language": "python",
   "name": "python3"
  }
 },
 "nbformat": 4,
 "nbformat_minor": 2
}
