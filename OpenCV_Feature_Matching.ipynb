{
 "cells": [
  {
   "cell_type": "raw",
   "metadata": {},
   "source": [
    "cv2.xfeatures2d.SIFT_create([, nfeatures[, nOctaveLayers[, contrastThreshold[, edgeThreshold[, sigma]]]]]) -> retval\n",
    " | . @param nfeatures The number of best features to retain. The features are ranked by their scores\n",
    " | . (measured in SIFT algorithm as the local contrast)\n",
    " | .\n",
    " | . @param nOctaveLayers The number of layers in each octave. 3 is the value used in D. Lowe paper. \n",
    " | . The number of octaves is computed automatically from the image resolution.\n",
    " | .\n",
    " | . @param contrastThreshold The contrast threshold used to filter out weak features in semi-uniform\n",
    " | . (low-contrast) regions. The larger the threshold, the less features are produced by the detector.\n",
    " | .\n",
    " | . @param edgeThreshold The threshold used to filter out edge-like features. Note that the its meaning\n",
    " | . is different from the contrastThreshold, i.e. the larger the edgeThreshold, the less features are\n",
    " | . filtered out (more features are retained).\n",
    " | .\n",
    " | . @param sigma The sigma of the Gaussian applied to the input image at the octave \\#0. If your image\n",
    " | . is captured with a weak camera with soft lenses, you might want to reduce the number."
   ]
  },
  {
   "cell_type": "code",
   "execution_count": 1,
   "metadata": {},
   "outputs": [],
   "source": [
    "import cv2 as cv\n",
    "import os\n",
    "from collections import defaultdict\n",
    "\n",
    "def feature_matcher(query_image, image_folder, method=\"surf\", top_n=5):\n",
    "    \n",
    "    matches_scores = defaultdict()\n",
    "\n",
    "    img1 = cv.imread(query_image, 0)\n",
    "    if method == \"sift\":\n",
    "        cv_descriptor = cv.xfeatures2d.SIFT_create(nfeatures=800)\n",
    "    else:\n",
    "        cv_descriptor = cv.xfeatures2d.SURF_create(800)\n",
    "    kp1, des1 = cv_descriptor.detectAndCompute(img1, None)\n",
    "\n",
    "    bf = cv.BFMatcher(cv.NORM_L2)\n",
    "\n",
    "    images = next(os.walk(image_folder))[2]\n",
    "\n",
    "    count = 0\n",
    "\n",
    "    for img in images:\n",
    "        if count == 10:\n",
    "            break\n",
    "        try:\n",
    "            train_image = image_folder + '/' + img\n",
    "            img2 = cv.imread(train_image, 0)\n",
    "            surf = cv.xfeatures2d.SURF_create(800)\n",
    "            kp2, des2 = surf.detectAndCompute(img2, None)\n",
    "\n",
    "            matches = bf.knnMatch(des1, des2, k=2)\n",
    "\n",
    "            good = []\n",
    "            for m, n in matches:\n",
    "                if m.distance < 0.7*n.distance:\n",
    "                    good.append(m)\n",
    "\n",
    "            matches_scores[img] = len(good)\n",
    "\n",
    "        except:\n",
    "            pass\n",
    "        count += 1\n",
    "\n",
    "    return dict(sorted(matches_scores.items(), key=lambda x:x[1], reverse=True)[:top_n]).keys()"
   ]
  },
  {
   "cell_type": "code",
   "execution_count": 4,
   "metadata": {},
   "outputs": [],
   "source": [
    "current_dir = os.getcwd()\n",
    "query_image = os.path.join(current_dir, \"images/100002.jpg\")\n",
    "image_folder = os.path.join(current_dir, \"images\")"
   ]
  },
  {
   "cell_type": "code",
   "execution_count": 5,
   "metadata": {},
   "outputs": [
    {
     "data": {
      "text/plain": [
       "dict_keys(['100002.jpg', '100001.jpg', '100000.jpg', '100101.jpg', '100100.jpg'])"
      ]
     },
     "execution_count": 5,
     "metadata": {},
     "output_type": "execute_result"
    }
   ],
   "source": [
    "feature_matcher(query_image, image_folder)"
   ]
  },
  {
   "cell_type": "code",
   "execution_count": null,
   "metadata": {},
   "outputs": [],
   "source": []
  },
  {
   "cell_type": "code",
   "execution_count": null,
   "metadata": {},
   "outputs": [],
   "source": []
  }
 ],
 "metadata": {
  "kernelspec": {
   "display_name": "Python 3",
   "language": "python",
   "name": "python3"
  },
  "language_info": {
   "codemirror_mode": {
    "name": "ipython",
    "version": 3
   },
   "file_extension": ".py",
   "mimetype": "text/x-python",
   "name": "python",
   "nbconvert_exporter": "python",
   "pygments_lexer": "ipython3",
   "version": "3.6.4"
  }
 },
 "nbformat": 4,
 "nbformat_minor": 2
}
